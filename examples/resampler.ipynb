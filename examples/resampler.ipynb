{
 "cells": [
  {
   "cell_type": "code",
   "execution_count": 7,
   "metadata": {
    "pycharm": {
     "name": "#%%\n"
    }
   },
   "outputs": [],
   "source": [
    "# Example for dummy classifier\n"
   ]
  },
  {
   "cell_type": "code",
   "execution_count": 8,
   "metadata": {
    "pycharm": {
     "name": "#%%\n"
    }
   },
   "outputs": [],
   "source": [
    "# IMPORTANT: import your project once\n",
    "import photonai_icu"
   ]
  },
  {
   "cell_type": "code",
   "execution_count": 9,
   "metadata": {
    "pycharm": {
     "name": "#%%\n"
    }
   },
   "outputs": [],
   "source": [
    "from photonai.base import Hyperpipe, PipelineElement\n",
    "from sklearn.model_selection import KFold"
   ]
  },
  {
   "cell_type": "markdown",
   "metadata": {
    "pycharm": {
     "name": "#%% md\n"
    }
   },
   "source": [
    "Create dataset"
   ]
  },
  {
   "cell_type": "code",
   "execution_count": 10,
   "metadata": {
    "collapsed": false,
    "pycharm": {
     "name": "#%%\n"
    }
   },
   "outputs": [],
   "source": [
    "import numpy as np\n",
    "X = np.random.rand(10, 10)\n",
    "y = np.random.rand(10)"
   ]
  },
  {
   "cell_type": "markdown",
   "metadata": {
    "pycharm": {
     "name": "#%% md\n"
    }
   },
   "source": [
    "Setup pipeline"
   ]
  },
  {
   "cell_type": "code",
   "execution_count": 11,
   "metadata": {},
   "outputs": [],
   "source": [
    "my_pipe = Hyperpipe('pipe',  # the name of your pipeline\n",
    "                    # which optimizer PHOTONAI shall use\n",
    "                    optimizer='sk_opt',\n",
    "                    optimizer_params={'n_configurations': 25},\n",
    "                    # the performance metrics of your interest\n",
    "                    metrics=['accuracy', 'precision', 'recall', 'balanced_accuracy'],\n",
    "                    # after hyperparameter optimization, this metric declares the winner config\n",
    "                    best_config_metric='accuracy',\n",
    "                    # repeat hyperparameter optimization three times\n",
    "                    outer_cv=KFold(n_splits=2),\n",
    "                    # test each configuration five times respectively,\n",
    "                    inner_cv=KFold(n_splits=2),\n",
    "                    verbosity=1,\n",
    "                    project_folder='./tmp/')"
   ]
  },
  {
   "cell_type": "code",
   "execution_count": null,
   "metadata": {
    "pycharm": {
     "name": "#%%\n"
    }
   },
   "outputs": [],
   "source": [
    "my_pipe += PipelineElement(\"ResamplerTransformer\", dummy_hp=3)"
   ]
  },
  {
   "cell_type": "code",
   "execution_count": 13,
   "metadata": {
    "pycharm": {
     "name": "#%%\n"
    }
   },
   "outputs": [],
   "source": [
    "my_pipe += PipelineElement(\"SVR\")"
   ]
  },
  {
   "cell_type": "code",
   "execution_count": 14,
   "metadata": {
    "pycharm": {
     "name": "#%%\n"
    }
   },
   "outputs": [
    {
     "name": "stdout",
     "output_type": "stream",
     "text": [
      "02/12/2024-18:57:30 | Output Folder: ./tmp/pipe_results_2024-12-02_18-57-30\n",
      "=====================================================================================================\n",
      "PHOTONAI ANALYSIS: pipe\n",
      "=====================================================================================================\n",
      "02/12/2024-18:57:30 | Preparing data and PHOTONAI objects for analysis...\n",
      "02/12/2024-18:57:30 | Checking input data...\n",
      "02/12/2024-18:57:30 | Running analysis with 10 samples.\n",
      "\n",
      "*****************************************************************************************************\n",
      "Outer Cross validation Fold 1\n",
      "*****************************************************************************************************\n",
      "02/12/2024-18:57:30 | Preparing data for outer fold 1...\n",
      "02/12/2024-18:57:30 | Preparing Hyperparameter Optimization...\n",
      "Did not find any hyperparameter to convert into skopt space.\n",
      "02/12/2024-18:57:30 | Running Dummy Estimator...\n",
      "continuous is not supported\n",
      "02/12/2024-18:57:30 | Skipping dummy because of error..\n",
      "-----------------------------------------------------------------------------------------------------\n",
      "{}\n",
      "continuous is not supported\n",
      "Traceback (most recent call last):\n",
      "  File \"/home/paul/projects/ukm/photonai_icu/.venv/lib64/python3.12/site-packages/photonai/processing/inner_folds.py\", line 154, in fit\n",
      "    curr_test_fold, curr_train_fold = InnerFoldManager.fit_and_score(job_data)\n",
      "                                      ^^^^^^^^^^^^^^^^^^^^^^^^^^^^^^^^^^^^^^^^\n",
      "  File \"/home/paul/projects/ukm/photonai_icu/.venv/lib64/python3.12/site-packages/photonai/processing/inner_folds.py\", line 355, in fit_and_score\n",
      "    curr_test_fold = InnerFoldManager.score(pipe, job.test_data.X, job.test_data.y, job.metrics,\n",
      "                     ^^^^^^^^^^^^^^^^^^^^^^^^^^^^^^^^^^^^^^^^^^^^^^^^^^^^^^^^^^^^^^^^^^^^^^^^^^^\n",
      "  File \"/home/paul/projects/ukm/photonai_icu/.venv/lib64/python3.12/site-packages/photonai/processing/inner_folds.py\", line 453, in score\n",
      "    score_metrics = scorer.calculate_metrics(y_true, y_pred, metrics)\n",
      "                    ^^^^^^^^^^^^^^^^^^^^^^^^^^^^^^^^^^^^^^^^^^^^^^^^^\n",
      "  File \"/home/paul/projects/ukm/photonai_icu/.venv/lib64/python3.12/site-packages/photonai/processing/metrics.py\", line 225, in calculate_metrics\n",
      "    scorer_value = scorer(y_true, y_pred)\n",
      "                   ^^^^^^^^^^^^^^^^^^^^^^\n",
      "  File \"/home/paul/projects/ukm/photonai_icu/.venv/lib64/python3.12/site-packages/sklearn/utils/_param_validation.py\", line 213, in wrapper\n",
      "    return func(*args, **kwargs)\n",
      "           ^^^^^^^^^^^^^^^^^^^^^\n",
      "  File \"/home/paul/projects/ukm/photonai_icu/.venv/lib64/python3.12/site-packages/sklearn/metrics/_classification.py\", line 231, in accuracy_score\n",
      "    y_type, y_true, y_pred = _check_targets(y_true, y_pred)\n",
      "                             ^^^^^^^^^^^^^^^^^^^^^^^^^^^^^^\n",
      "  File \"/home/paul/projects/ukm/photonai_icu/.venv/lib64/python3.12/site-packages/sklearn/metrics/_classification.py\", line 123, in _check_targets\n",
      "    raise ValueError(\"{0} is not supported\".format(y_type))\n",
      "ValueError: continuous is not supported\n",
      "\n",
      "continuous is not supported\n",
      "-----------------------------------------------------------------------------------------------------\n",
      "02/12/2024-18:57:30 | Hyperparameter Optimization finished. Now finding best configuration .... \n",
      "02/12/2024-18:57:30 | 1\n",
      "No Configs found which did not fail.\n",
      "Traceback (most recent call last):\n",
      "  File \"/home/paul/projects/ukm/photonai_icu/.venv/lib64/python3.12/site-packages/photonai/base/hyperpipe.py\", line 1113, in fit\n",
      "    outer_fold_computer.fit(self.data.X, self.data.y, **self.data.kwargs)\n",
      "  File \"/home/paul/projects/ukm/photonai_icu/.venv/lib64/python3.12/site-packages/photonai/processing/outer_folds.py\", line 188, in fit\n",
      "    best_config_outer_fold = self.result_object.get_optimum_config(self.optimization_info.best_config_metric,\n",
      "                             ^^^^^^^^^^^^^^^^^^^^^^^^^^^^^^^^^^^^^^^^^^^^^^^^^^^^^^^^^^^^^^^^^^^^^^^^^^^^^^^^\n",
      "  File \"/home/paul/projects/ukm/photonai_icu/.venv/lib64/python3.12/site-packages/photonai/processing/results_structure.py\", line 141, in get_optimum_config\n",
      "    raise Warning(\"No Configs found which did not fail.\")\n",
      "Warning: No Configs found which did not fail.\n",
      "\n"
     ]
    },
    {
     "name": "stderr",
     "output_type": "stream",
     "text": [
      "/home/paul/projects/ukm/photonai_icu/.venv/lib64/python3.12/site-packages/photonai/optimization/scikit_optimize/sk_opt.py:169: UserWarning: Did not find any hyperparameter to convert into skopt space.\n",
      "  warnings.warn(msg)\n",
      "Traceback (most recent call last):\n",
      "  File \"/home/paul/projects/ukm/photonai_icu/.venv/lib64/python3.12/site-packages/photonai/processing/inner_folds.py\", line 154, in fit\n",
      "    curr_test_fold, curr_train_fold = InnerFoldManager.fit_and_score(job_data)\n",
      "                                      ^^^^^^^^^^^^^^^^^^^^^^^^^^^^^^^^^^^^^^^^\n",
      "  File \"/home/paul/projects/ukm/photonai_icu/.venv/lib64/python3.12/site-packages/photonai/processing/inner_folds.py\", line 355, in fit_and_score\n",
      "    curr_test_fold = InnerFoldManager.score(pipe, job.test_data.X, job.test_data.y, job.metrics,\n",
      "                     ^^^^^^^^^^^^^^^^^^^^^^^^^^^^^^^^^^^^^^^^^^^^^^^^^^^^^^^^^^^^^^^^^^^^^^^^^^^\n",
      "  File \"/home/paul/projects/ukm/photonai_icu/.venv/lib64/python3.12/site-packages/photonai/processing/inner_folds.py\", line 453, in score\n",
      "    score_metrics = scorer.calculate_metrics(y_true, y_pred, metrics)\n",
      "                    ^^^^^^^^^^^^^^^^^^^^^^^^^^^^^^^^^^^^^^^^^^^^^^^^^\n",
      "  File \"/home/paul/projects/ukm/photonai_icu/.venv/lib64/python3.12/site-packages/photonai/processing/metrics.py\", line 225, in calculate_metrics\n",
      "    scorer_value = scorer(y_true, y_pred)\n",
      "                   ^^^^^^^^^^^^^^^^^^^^^^\n",
      "  File \"/home/paul/projects/ukm/photonai_icu/.venv/lib64/python3.12/site-packages/sklearn/utils/_param_validation.py\", line 213, in wrapper\n",
      "    return func(*args, **kwargs)\n",
      "           ^^^^^^^^^^^^^^^^^^^^^\n",
      "  File \"/home/paul/projects/ukm/photonai_icu/.venv/lib64/python3.12/site-packages/sklearn/metrics/_classification.py\", line 231, in accuracy_score\n",
      "    y_type, y_true, y_pred = _check_targets(y_true, y_pred)\n",
      "                             ^^^^^^^^^^^^^^^^^^^^^^^^^^^^^^\n",
      "  File \"/home/paul/projects/ukm/photonai_icu/.venv/lib64/python3.12/site-packages/sklearn/metrics/_classification.py\", line 123, in _check_targets\n",
      "    raise ValueError(\"{0} is not supported\".format(y_type))\n",
      "ValueError: continuous is not supported\n",
      "/home/paul/projects/ukm/photonai_icu/.venv/lib64/python3.12/site-packages/photonai/processing/inner_folds.py:206: UserWarning: One test iteration of pipeline failed with error\n",
      "  warnings.warn('One test iteration of pipeline failed with error')\n",
      "Traceback (most recent call last):\n",
      "  File \"/home/paul/projects/ukm/photonai_icu/.venv/lib64/python3.12/site-packages/photonai/base/hyperpipe.py\", line 1113, in fit\n",
      "    outer_fold_computer.fit(self.data.X, self.data.y, **self.data.kwargs)\n",
      "  File \"/home/paul/projects/ukm/photonai_icu/.venv/lib64/python3.12/site-packages/photonai/processing/outer_folds.py\", line 188, in fit\n",
      "    best_config_outer_fold = self.result_object.get_optimum_config(self.optimization_info.best_config_metric,\n",
      "                             ^^^^^^^^^^^^^^^^^^^^^^^^^^^^^^^^^^^^^^^^^^^^^^^^^^^^^^^^^^^^^^^^^^^^^^^^^^^^^^^^\n",
      "  File \"/home/paul/projects/ukm/photonai_icu/.venv/lib64/python3.12/site-packages/photonai/processing/results_structure.py\", line 141, in get_optimum_config\n",
      "    raise Warning(\"No Configs found which did not fail.\")\n",
      "Warning: No Configs found which did not fail.\n"
     ]
    },
    {
     "ename": "Warning",
     "evalue": "No Configs found which did not fail.",
     "output_type": "error",
     "traceback": [
      "\u001b[0;31m---------------------------------------------------------------------------\u001b[0m",
      "\u001b[0;31mWarning\u001b[0m                                   Traceback (most recent call last)",
      "Cell \u001b[0;32mIn[14], line 1\u001b[0m\n\u001b[0;32m----> 1\u001b[0m \u001b[43mmy_pipe\u001b[49m\u001b[38;5;241;43m.\u001b[39;49m\u001b[43mfit\u001b[49m\u001b[43m(\u001b[49m\u001b[43mX\u001b[49m\u001b[43m,\u001b[49m\u001b[43m \u001b[49m\u001b[43my\u001b[49m\u001b[43m)\u001b[49m\n",
      "File \u001b[0;32m~/projects/ukm/photonai_icu/.venv/lib64/python3.12/site-packages/photonai/base/hyperpipe.py:1139\u001b[0m, in \u001b[0;36mHyperpipe.fit\u001b[0;34m(self, data, targets, **kwargs)\u001b[0m\n\u001b[1;32m   1137\u001b[0m     logger\u001b[38;5;241m.\u001b[39merror(traceback\u001b[38;5;241m.\u001b[39mformat_exc())\n\u001b[1;32m   1138\u001b[0m     traceback\u001b[38;5;241m.\u001b[39mprint_exc()\n\u001b[0;32m-> 1139\u001b[0m     \u001b[38;5;28;01mraise\u001b[39;00m e\n\u001b[1;32m   1140\u001b[0m \u001b[38;5;28;01mfinally\u001b[39;00m:\n\u001b[1;32m   1141\u001b[0m     \u001b[38;5;28;01mif\u001b[39;00m \u001b[38;5;28mself\u001b[39m\u001b[38;5;241m.\u001b[39mnr_of_processes \u001b[38;5;241m>\u001b[39m \u001b[38;5;241m1\u001b[39m:\n",
      "File \u001b[0;32m~/projects/ukm/photonai_icu/.venv/lib64/python3.12/site-packages/photonai/base/hyperpipe.py:1113\u001b[0m, in \u001b[0;36mHyperpipe.fit\u001b[0;34m(self, data, targets, **kwargs)\u001b[0m\n\u001b[1;32m   1110\u001b[0m \u001b[38;5;28;01melse\u001b[39;00m:\n\u001b[1;32m   1111\u001b[0m     \u001b[38;5;28;01mtry\u001b[39;00m:\n\u001b[1;32m   1112\u001b[0m         \u001b[38;5;66;03m# 3. fit\u001b[39;00m\n\u001b[0;32m-> 1113\u001b[0m         \u001b[43mouter_fold_computer\u001b[49m\u001b[38;5;241;43m.\u001b[39;49m\u001b[43mfit\u001b[49m\u001b[43m(\u001b[49m\u001b[38;5;28;43mself\u001b[39;49m\u001b[38;5;241;43m.\u001b[39;49m\u001b[43mdata\u001b[49m\u001b[38;5;241;43m.\u001b[39;49m\u001b[43mX\u001b[49m\u001b[43m,\u001b[49m\u001b[43m \u001b[49m\u001b[38;5;28;43mself\u001b[39;49m\u001b[38;5;241;43m.\u001b[39;49m\u001b[43mdata\u001b[49m\u001b[38;5;241;43m.\u001b[39;49m\u001b[43my\u001b[49m\u001b[43m,\u001b[49m\u001b[43m \u001b[49m\u001b[38;5;241;43m*\u001b[39;49m\u001b[38;5;241;43m*\u001b[39;49m\u001b[38;5;28;43mself\u001b[39;49m\u001b[38;5;241;43m.\u001b[39;49m\u001b[43mdata\u001b[49m\u001b[38;5;241;43m.\u001b[39;49m\u001b[43mkwargs\u001b[49m\u001b[43m)\u001b[49m\n\u001b[1;32m   1114\u001b[0m         \u001b[38;5;66;03m# 4. save outer fold results\u001b[39;00m\n\u001b[1;32m   1115\u001b[0m         \u001b[38;5;28mself\u001b[39m\u001b[38;5;241m.\u001b[39mresults_handler\u001b[38;5;241m.\u001b[39msave()\n",
      "File \u001b[0;32m~/projects/ukm/photonai_icu/.venv/lib64/python3.12/site-packages/photonai/processing/outer_folds.py:188\u001b[0m, in \u001b[0;36mOuterFoldManager.fit\u001b[0;34m(self, X, y, **kwargs)\u001b[0m\n\u001b[1;32m    186\u001b[0m \u001b[38;5;66;03m# now go on with the best config found\u001b[39;00m\n\u001b[1;32m    187\u001b[0m \u001b[38;5;28;01mif\u001b[39;00m \u001b[38;5;28mself\u001b[39m\u001b[38;5;241m.\u001b[39mtested_config_counter \u001b[38;5;241m>\u001b[39m \u001b[38;5;241m0\u001b[39m:\n\u001b[0;32m--> 188\u001b[0m     best_config_outer_fold \u001b[38;5;241m=\u001b[39m \u001b[38;5;28;43mself\u001b[39;49m\u001b[38;5;241;43m.\u001b[39;49m\u001b[43mresult_object\u001b[49m\u001b[38;5;241;43m.\u001b[39;49m\u001b[43mget_optimum_config\u001b[49m\u001b[43m(\u001b[49m\u001b[38;5;28;43mself\u001b[39;49m\u001b[38;5;241;43m.\u001b[39;49m\u001b[43moptimization_info\u001b[49m\u001b[38;5;241;43m.\u001b[39;49m\u001b[43mbest_config_metric\u001b[49m\u001b[43m,\u001b[49m\n\u001b[1;32m    189\u001b[0m \u001b[43m                                                                   \u001b[49m\u001b[38;5;28;43mself\u001b[39;49m\u001b[38;5;241;43m.\u001b[39;49m\u001b[43moptimization_info\u001b[49m\u001b[38;5;241;43m.\u001b[39;49m\u001b[43mmaximize_metric\u001b[49m\u001b[43m,\u001b[49m\n\u001b[1;32m    190\u001b[0m \u001b[43m                                                                   \u001b[49m\u001b[43mfold_operation\u001b[49m\u001b[38;5;241;43m=\u001b[39;49m\u001b[38;5;28;43mself\u001b[39;49m\u001b[38;5;241;43m.\u001b[39;49m\u001b[43mfold_operation\u001b[49m\u001b[43m)\u001b[49m\n\u001b[1;32m    191\u001b[0m     \u001b[38;5;66;03m# inform user\u001b[39;00m\n\u001b[1;32m    192\u001b[0m     logger\u001b[38;5;241m.\u001b[39mdebug(\u001b[38;5;124m'\u001b[39m\u001b[38;5;124mOptimizer metric: \u001b[39m\u001b[38;5;124m'\u001b[39m \u001b[38;5;241m+\u001b[39m \u001b[38;5;28mself\u001b[39m\u001b[38;5;241m.\u001b[39moptimization_info\u001b[38;5;241m.\u001b[39mbest_config_metric \u001b[38;5;241m+\u001b[39m \u001b[38;5;124m'\u001b[39m\u001b[38;5;130;01m\\n\u001b[39;00m\u001b[38;5;124m'\u001b[39m \u001b[38;5;241m+\u001b[39m\n\u001b[1;32m    193\u001b[0m                  \u001b[38;5;124m'\u001b[39m\u001b[38;5;124m   --> Maximize metric: \u001b[39m\u001b[38;5;124m'\u001b[39m \u001b[38;5;241m+\u001b[39m \u001b[38;5;28mstr\u001b[39m(\u001b[38;5;28mself\u001b[39m\u001b[38;5;241m.\u001b[39moptimization_info\u001b[38;5;241m.\u001b[39mmaximize_metric))\n",
      "File \u001b[0;32m~/projects/ukm/photonai_icu/.venv/lib64/python3.12/site-packages/photonai/processing/results_structure.py:141\u001b[0m, in \u001b[0;36mMDBOuterFold.get_optimum_config\u001b[0;34m(self, metric, maximize_metric, dict_filter, fold_operation)\u001b[0m\n\u001b[1;32m    136\u001b[0m     list_of_non_failed_configs \u001b[38;5;241m=\u001b[39m [conf \u001b[38;5;28;01mfor\u001b[39;00m conf \u001b[38;5;129;01min\u001b[39;00m list_of_non_failed_configs\n\u001b[1;32m    137\u001b[0m                                   \u001b[38;5;28;01mif\u001b[39;00m dict_filter[\u001b[38;5;241m0\u001b[39m] \u001b[38;5;129;01min\u001b[39;00m conf\u001b[38;5;241m.\u001b[39mconfig_dict\n\u001b[1;32m    138\u001b[0m                                   \u001b[38;5;129;01mand\u001b[39;00m conf\u001b[38;5;241m.\u001b[39mconfig_dict[dict_filter[\u001b[38;5;241m0\u001b[39m]] \u001b[38;5;241m==\u001b[39m dict_filter[\u001b[38;5;241m1\u001b[39m]]\n\u001b[1;32m    140\u001b[0m \u001b[38;5;28;01mif\u001b[39;00m \u001b[38;5;28mlen\u001b[39m(list_of_non_failed_configs) \u001b[38;5;241m==\u001b[39m \u001b[38;5;241m0\u001b[39m:\n\u001b[0;32m--> 141\u001b[0m     \u001b[38;5;28;01mraise\u001b[39;00m \u001b[38;5;167;01mWarning\u001b[39;00m(\u001b[38;5;124m\"\u001b[39m\u001b[38;5;124mNo Configs found which did not fail.\u001b[39m\u001b[38;5;124m\"\u001b[39m)\n\u001b[1;32m    143\u001b[0m \u001b[38;5;28;01mif\u001b[39;00m \u001b[38;5;28mlen\u001b[39m(list_of_non_failed_configs) \u001b[38;5;241m==\u001b[39m \u001b[38;5;241m1\u001b[39m:\n\u001b[1;32m    144\u001b[0m     best_config_outer_fold \u001b[38;5;241m=\u001b[39m list_of_non_failed_configs[\u001b[38;5;241m0\u001b[39m]\n",
      "\u001b[0;31mWarning\u001b[0m: No Configs found which did not fail."
     ]
    }
   ],
   "source": [
    "my_pipe.fit(X, y)"
   ]
  },
  {
   "cell_type": "markdown",
   "metadata": {
    "pycharm": {
     "name": "#%% md\n"
    }
   },
   "source": [
    "Done"
   ]
  }
 ],
 "metadata": {
  "kernelspec": {
   "display_name": ".venv",
   "language": "python",
   "name": "python3"
  },
  "language_info": {
   "codemirror_mode": {
    "name": "ipython",
    "version": 3
   },
   "file_extension": ".py",
   "mimetype": "text/x-python",
   "name": "python",
   "nbconvert_exporter": "python",
   "pygments_lexer": "ipython3",
   "version": "3.12.0"
  }
 },
 "nbformat": 4,
 "nbformat_minor": 1
}
